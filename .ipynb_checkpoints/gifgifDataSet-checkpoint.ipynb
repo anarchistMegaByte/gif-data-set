{
 "cells": [
  {
   "cell_type": "code",
   "execution_count": 172,
   "metadata": {
    "collapsed": true
   },
   "outputs": [],
   "source": [
    "import requests\n",
    "import os"
   ]
  },
  {
   "cell_type": "code",
   "execution_count": 4,
   "metadata": {
    "collapsed": true
   },
   "outputs": [],
   "source": [
    "response = requests.get('https://www.qnt.io/api/displaymetrics?pID=gifgif&mode=all&key=54a309ac1c61be23aba0da3f')"
   ]
  },
  {
   "cell_type": "code",
   "execution_count": 35,
   "metadata": {},
   "outputs": [],
   "source": [
    "json_response = response.json():"
   ]
  },
  {
   "cell_type": "code",
   "execution_count": 50,
   "metadata": {},
   "outputs": [
    {
     "name": "stdout",
     "output_type": "stream",
     "text": [
      "['metric', 'metric_prefix', 'mID']\n"
     ]
    }
   ],
   "source": [
    "list_of_keys = list(json_response[0].keys())\n",
    "print(list_of_keys)"
   ]
  },
  {
   "cell_type": "code",
   "execution_count": 61,
   "metadata": {},
   "outputs": [
    {
     "name": "stdout",
     "output_type": "stream",
     "text": [
      "['amusement', 'anger', 'contempt', 'contentment', 'disgust', 'embarrassment', 'excitement', 'fear', 'guilt', 'happiness', 'pleasure', 'pride', 'relief', 'sadness', 'satisfaction', 'shame', 'surprise']\n"
     ]
    }
   ],
   "source": [
    "dict_of_emotions = {}\n",
    "for x in json_response:\n",
    "    dict_of_emotions[x[list_of_keys[0]]] = x[list_of_keys[2]]\n",
    "    \n",
    "list_of_emotions = list(dict_mode_i.keys())\n",
    "print(list_of_emotions)"
   ]
  },
  {
   "cell_type": "code",
   "execution_count": 173,
   "metadata": {},
   "outputs": [
    {
     "name": "stdout",
     "output_type": "stream",
     "text": [
      "Home directory gifgifDataBase was created.\n",
      "200\n",
      "Response for emotion : amusement - 500\n",
      "200\n",
      "Response for emotion : anger - 500\n",
      "200\n",
      "Response for emotion : contempt - 500\n",
      "200\n",
      "Response for emotion : contentment - 500\n",
      "200\n",
      "Response for emotion : disgust - 500\n",
      "200\n",
      "Response for emotion : embarrassment - 500\n",
      "200\n",
      "Response for emotion : excitement - 500\n",
      "200\n",
      "Response for emotion : fear - 500\n",
      "200\n",
      "Response for emotion : guilt - 500\n",
      "200\n",
      "Response for emotion : happiness - 500\n",
      "200\n",
      "Response for emotion : pleasure - 500\n",
      "200\n",
      "Response for emotion : pride - 500\n",
      "200\n",
      "Response for emotion : relief - 500\n",
      "200\n",
      "Response for emotion : sadness - 500\n",
      "200\n",
      "Response for emotion : satisfaction - 500\n",
      "200\n",
      "Response for emotion : shame - 500\n",
      "200\n",
      "Response for emotion : surprise - 500\n"
     ]
    }
   ],
   "source": [
    "base_url = 'https://www.qnt.io/api/results?'\n",
    "parameters = ['pID','mID','limit','sort','skip','key']\n",
    "ampersand = '&'\n",
    "\n",
    "pID = parameters[0] + '=' + 'gifgif'\n",
    "api_key = parameters[5] + '=' + '54a309ac1c61be23aba0da3f'\n",
    "limit = parameters[2] + '=' + '500'\n",
    "\n",
    "gif_dir = 'gifgifDataBase'\n",
    "if not os.path.isdir(gif_dir):\n",
    "    os.makedirs(gif_dir)\n",
    "    print(\"Home directory %s was created.\" %gif_dir)\n",
    "    \n",
    "for key in dict_of_emotions.keys():\n",
    "    #make file for emotion\n",
    "    filename = key + '.tsv'\n",
    "    f = open(gif_dir + \"/\" +filename,'w')\n",
    "    \n",
    "    #req\n",
    "    mID = parameters[1] + '=' + dict_of_emotions[key]\n",
    "    url = base_url + pID + ampersand + mID + ampersand + api_key + ampersand + limit\n",
    "    temporary = requests.get(url)\n",
    "    response_gif = temporary.json()\n",
    "    print(temporary.status_code)\n",
    "    if (temporary.status_code == 200):\n",
    "        #link,tag,rank,mu,sigma \n",
    "        column_names = 'link' + '\\t' + 'tag' + '\\t' + 'rank' + '\\t' + 'mu' + '\\t' + 'sigma' + '\\t' + 'content_type' + '\\n'\n",
    "        f.write(column_names)\n",
    "    \n",
    "        #parsing response\n",
    "        for results in response_gif['results']:\n",
    "            #print(results['rank'])\n",
    "            #keys -  ['content', 'content_data', 'parameters', 'rank', 'index', 'content_type', 'cID']\n",
    "            #print(results['content_data'].keys())\n",
    "            #keys - ['dateAdded', 'tags', 'added_with_admin', 'still_image', 'embedLink']\n",
    "            #print(results['parameters'].keys())\n",
    "            #keys - ['sigma',  'mu']\n",
    "            link = results['content_data']['embedLink'] + '\\t'\n",
    "            tags = ''\n",
    "            for i in results['content_data']['tags'] :\n",
    "                tags += i + ','\n",
    "            tags += '\\t'\n",
    "            rank = str(results['rank']) + '\\t'\n",
    "            mu = str(results['parameters']['mu']) + '\\t'\n",
    "            sigma = str(results['parameters']['sigma']) + '\\t'\n",
    "            contentType = results['content_type'] + '\\n' \n",
    "            final = link+tags+rank+mu+sigma+contentType\n",
    "            f.write(final)\n",
    "        print(\"Response for emotion : \" + key + \" - \" + str(len(response_gif['results'])))\n",
    "    "
   ]
  },
  {
   "cell_type": "code",
   "execution_count": null,
   "metadata": {
    "collapsed": true
   },
   "outputs": [],
   "source": []
  }
 ],
 "metadata": {
  "kernelspec": {
   "display_name": "Python [conda env:gif-data-set]",
   "language": "python",
   "name": "conda-env-gif-data-set-py"
  },
  "language_info": {
   "codemirror_mode": {
    "name": "ipython",
    "version": 3
   },
   "file_extension": ".py",
   "mimetype": "text/x-python",
   "name": "python",
   "nbconvert_exporter": "python",
   "pygments_lexer": "ipython3",
   "version": "3.6.1"
  }
 },
 "nbformat": 4,
 "nbformat_minor": 2
}
